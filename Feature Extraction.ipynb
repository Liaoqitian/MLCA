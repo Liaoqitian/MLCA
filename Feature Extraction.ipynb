{
 "cells": [
  {
   "cell_type": "code",
   "execution_count": 16,
   "metadata": {},
   "outputs": [],
   "source": [
    "from keras import applications\n",
    "from keras.preprocessing.image import ImageDataGenerator\n",
    "from keras import optimizers\n",
    "from keras.models import Sequential, Model \n",
    "from keras.layers import *\n",
    "from keras.callbacks import ModelCheckpoint, LearningRateScheduler, TensorBoard, EarlyStopping\n",
    " \n",
    "import os\n",
    "import cv2\n",
    "import numpy as np\n",
    "from sklearn.model_selection import train_test_split\n",
    "import keras_metrics as km\n",
    "\n",
    "from sklearn.metrics import accuracy_score\n",
    "from sklearn.metrics import precision_score\n",
    "from sklearn.metrics import recall_score\n",
    "from sklearn.metrics import f1_score\n",
    "from sklearn.metrics import cohen_kappa_score\n",
    "from sklearn.metrics import roc_auc_score\n",
    "from sklearn.metrics import multilabel_confusion_matrix\n",
    "\n",
    "import tensorflow as tf\n",
    "from tensorflow import keras\n",
    "from tensorflow.keras.preprocessing.image import ImageDataGenerator\n",
    "from tensorflow.keras.applications import ResNet50\n",
    "from tensorflow.keras.layers import Dropout, Flatten, Dense, Activation, BatchNormalization\n",
    "from tensorflow.keras.layers import Conv2D, MaxPooling2D, AveragePooling2D, Dropout\n",
    "from tensorflow.keras.optimizers import SGD\n",
    "from sklearn.preprocessing import LabelBinarizer\n",
    "from sklearn.model_selection import train_test_split\n",
    "from sklearn.metrics import classification_report\n",
    "from sklearn.preprocessing import MinMaxScaler\n",
    "\n",
    "import numpy as np \n",
    "import matplotlib.pyplot as plt \n",
    "import argparse\n",
    "import os\n",
    "import cv2 \n",
    "import random\n",
    "import sys\n",
    "from PIL import Image\n",
    "import pickle\n",
    "import math\n",
    "import pandas as pd"
   ]
  },
  {
   "cell_type": "code",
   "execution_count": 27,
   "metadata": {},
   "outputs": [],
   "source": [
    "DATADIR = \"./finaldata\" \n",
    "CATEGORIES = [\"Boring\", \"Interesting\"]\n",
    "training_data = []\n",
    "feature_extraction_data = []\n",
    "IMG_SIZE = 20"
   ]
  },
  {
   "cell_type": "code",
   "execution_count": 28,
   "metadata": {},
   "outputs": [],
   "source": [
    "## Stitch the images together \n",
    "## 0 1 2 \n",
    "## 3 4 5\n",
    "## 6 7 8\n",
    "\n",
    "def stitch_images(file_path, file_name):\n",
    "    images = [Image.open(image) for image in [file_path + \"/\" + file_name + str(x) + \".png\" for x in range(100, 109)]]\n",
    "    widths, heights = zip(*(i.size for i in images))\n",
    "    total_width = int(sum(widths) / 3)\n",
    "    total_height = int(sum(heights) / 3)\n",
    "    new_image = Image.new(\"RGB\", (total_width, total_height))\n",
    "    for index in range(0, 9):\n",
    "        image = images[index]\n",
    "        new_image.paste(image, ((index % 3) * image.size[0], math.floor(index / 3) * image.size[1]))\n",
    "    if not os.path.isdir(file_path + \"/combined/\"):\n",
    "        os.mkdir(file_path + \"/combined/\")\n",
    "    IMAGE_DIR = os.path.join(file_path, \"combined/\") + file_name + \"combined.png\"\n",
    "    new_image.save(IMAGE_DIR)\n",
    "    return IMAGE_DIR"
   ]
  },
  {
   "cell_type": "code",
   "execution_count": 29,
   "metadata": {},
   "outputs": [],
   "source": [
    "def create_training_data():\n",
    "    for category in CATEGORIES: \n",
    "        path = os.path.join(DATADIR, category)\n",
    "        class_num = CATEGORIES.index(category)\n",
    "        for image in sorted(os.listdir(path)): \n",
    "            if \"100\" not in image or \"combined\" in image: ## Find the starting frame\n",
    "                continue\n",
    "            IMAGE_DIR = stitch_images(path, image[0:-7])\n",
    "            try: \n",
    "                img_array = cv2.imread(IMAGE_DIR, cv2.IMREAD_GRAYSCALE)\n",
    "                new_array = cv2.resize(img_array, (IMG_SIZE, IMG_SIZE))\n",
    "                # print(new_array.shape[0], new_array.shape[1])\n",
    "                feature = np.reshape(new_array, (new_array.shape[0] * new_array.shape[1]))\n",
    "                training_data.append([new_array, class_num])\n",
    "                if class_num == 0:\n",
    "                    feature_extraction_data.append([feature, False])\n",
    "                else: \n",
    "                    feature_extraction_data.append([feature, True])\n",
    "            except Exception as e: \n",
    "                pass "
   ]
  },
  {
   "cell_type": "code",
   "execution_count": 30,
   "metadata": {},
   "outputs": [],
   "source": [
    "create_training_data()\n",
    "random.shuffle(training_data)\n",
    "random.shuffle(feature_extraction_data)"
   ]
  },
  {
   "cell_type": "code",
   "execution_count": 31,
   "metadata": {},
   "outputs": [],
   "source": [
    "features_file = open(\"file.csv\", \"ab\")\n",
    "feature_data = []\n",
    "for i in range(len(feature_extraction_data)): \n",
    "    row_data = np.append(feature_extraction_data[i][0], feature_extraction_data[i][1])\n",
    "    feature_data = np.append(feature_data, row_data)"
   ]
  },
  {
   "cell_type": "code",
   "execution_count": 32,
   "metadata": {},
   "outputs": [
    {
     "data": {
      "text/plain": [
       "(842100,)"
      ]
     },
     "execution_count": 32,
     "metadata": {},
     "output_type": "execute_result"
    }
   ],
   "source": [
    "feature_data.shape"
   ]
  },
  {
   "cell_type": "code",
   "execution_count": 34,
   "metadata": {},
   "outputs": [],
   "source": [
    "feature_data = feature_data.reshape(2100, 401)"
   ]
  },
  {
   "cell_type": "code",
   "execution_count": 35,
   "metadata": {},
   "outputs": [],
   "source": [
    "df = pd.DataFrame(feature_data)"
   ]
  },
  {
   "cell_type": "code",
   "execution_count": 36,
   "metadata": {},
   "outputs": [],
   "source": [
    "df.to_csv('features_1600.csv', index=False)  "
   ]
  },
  {
   "cell_type": "code",
   "execution_count": 37,
   "metadata": {},
   "outputs": [
    {
     "data": {
      "text/plain": [
       "array([255., 149., 255., 255., 255., 255., 255., 255., 255., 255., 255.,\n",
       "       255., 255., 255., 255., 255., 255., 255., 255., 255., 149., 149.,\n",
       "         0., 149.,   0., 255., 255., 149., 255., 255., 149., 255., 255.,\n",
       "       255., 255.,   0., 255., 255., 255., 255., 255., 255., 149., 149.,\n",
       "         0., 255., 255., 255.,   0., 255., 255., 255., 255., 255., 255.,\n",
       "         0., 255., 255., 255., 255., 255., 255.,   0., 255., 255., 255.,\n",
       "       255., 255., 255., 255., 255., 149., 255., 255., 255., 255., 255.,\n",
       "       255., 255.,   0., 255., 255., 255., 255., 255., 255., 255., 255.,\n",
       "       255., 255., 255., 255., 255., 255., 255., 255., 255., 255., 255.,\n",
       "       255., 255., 255., 255., 255., 255., 255., 255., 255., 255., 255.,\n",
       "       255., 255., 255., 255., 255., 255., 255., 255., 255., 255., 255.,\n",
       "       255., 255., 255., 255., 255., 255., 255., 255., 255., 255., 255.,\n",
       "       255., 255., 255.,   0., 255., 255.,   0.,   0., 255., 255., 255.,\n",
       "       255., 255., 255.,   0., 255., 255., 255., 149., 255., 255., 255.,\n",
       "       255., 255., 255., 255., 255., 255., 255., 255., 255.,   0., 255.,\n",
       "       255., 255., 255., 255., 255., 255., 255., 255., 255., 255., 255.,\n",
       "       255., 255., 149., 255., 255., 255., 255., 255., 255., 255., 255.,\n",
       "       255., 255., 255., 255., 255., 255.,   0., 255., 255., 255., 255.,\n",
       "       255., 255., 255.,   0., 149., 255., 255., 255., 255., 149., 255.,\n",
       "       255., 255., 255., 255., 255., 255., 255., 255., 255.,   0., 255.,\n",
       "       255., 149., 255., 255., 255., 149., 255., 255., 255., 255., 255.,\n",
       "       149., 255., 255., 255., 255., 255., 255., 255., 255., 255., 255.,\n",
       "       255., 255., 255., 255., 255., 255., 255., 255.,   0., 255., 255.,\n",
       "       255., 255., 255., 255., 255., 255., 255., 255., 255., 255., 255.,\n",
       "       255., 255., 255., 255., 255., 255., 255., 255., 255.,   0., 255.,\n",
       "       255., 255., 255., 255., 255., 255.,   0., 255., 255., 255., 255.,\n",
       "       255., 255., 255., 255.,   0., 255., 255., 255., 255., 255., 255.,\n",
       "       255., 255., 255., 255., 255., 255., 255., 255., 255., 255., 255.,\n",
       "       255., 255., 255., 255., 255., 255., 255., 255., 149., 255., 149.,\n",
       "       255., 255., 255., 255.,   0., 255., 255., 255., 255., 255., 255.,\n",
       "         0., 255., 255., 255., 255., 255., 255., 255., 255., 255., 255.,\n",
       "       255., 255., 255., 255., 255., 255., 255., 255., 255., 255., 255.,\n",
       "       255., 255., 255., 255., 255., 255., 255., 255., 255., 255., 255.,\n",
       "         0., 255., 255.,   0., 255., 255., 149., 255., 255., 255., 255.,\n",
       "       255., 255., 255., 255., 255., 255., 255., 255., 255., 255., 255.,\n",
       "       255., 255., 255., 149., 255., 255., 255., 255., 255., 255., 149.,\n",
       "       255., 255., 255., 255.,   1.])"
      ]
     },
     "execution_count": 37,
     "metadata": {},
     "output_type": "execute_result"
    }
   ],
   "source": [
    "feature_data[0]"
   ]
  },
  {
   "cell_type": "code",
   "execution_count": 33,
   "metadata": {},
   "outputs": [
    {
     "data": {
      "text/plain": [
       "901.0"
      ]
     },
     "execution_count": 33,
     "metadata": {},
     "output_type": "execute_result"
    }
   ],
   "source": [
    "1892100/2100"
   ]
  },
  {
   "cell_type": "code",
   "execution_count": 38,
   "metadata": {},
   "outputs": [],
   "source": [
    "from __future__ import division  # Only for how I'm writing the transition matrix\n",
    "import networkx as nx  # For the magic\n",
    "import matplotlib.pyplot as plt  # For plotting"
   ]
  },
  {
   "cell_type": "code",
   "execution_count": 41,
   "metadata": {},
   "outputs": [
    {
     "data": {
      "image/png": "[encoded data removed]",
      "text/plain": [
       "<IPython.core.display.Image object>"
      ]
     },
     "execution_count": 41,
     "metadata": {},
     "output_type": "execute_result"
    }
   ],
   "source": [
    "import pygraphviz as pgv\n",
    "from IPython.display import Image\n",
    "\n",
    "def draw(dot):\n",
    "    return Image(pgv.AGraph(dot).draw(format='png', prog='dot'))\n",
    "\n",
    "g1 = \"\"\"digraph top {\n",
    "   a -> b -> c;\n",
    "}\"\"\"\n",
    "draw(g1)"
   ]
  },
  {
   "cell_type": "code",
   "execution_count": 40,
   "metadata": {},
   "outputs": [
    {
     "name": "stdout",
     "output_type": "stream",
     "text": [
      "Collecting pygraphviz\n",
      "  Downloading pygraphviz-1.7.zip (118 kB)\n",
      "\u001b[K     |████████████████████████████████| 118 kB 4.6 MB/s eta 0:00:01\n",
      "\u001b[?25hBuilding wheels for collected packages: pygraphviz\n",
      "  Building wheel for pygraphviz (setup.py) ... \u001b[?25ldone\n",
      "\u001b[?25h  Created wheel for pygraphviz: filename=pygraphviz-1.7-cp37-cp37m-macosx_10_9_x86_64.whl size=101577 sha256=55f7b6b38fd7908a55b1db0a0c2021a507246a7e1bb036723fe958db5c7154ff\n",
      "  Stored in directory: /Users/liaoqt/Library/Caches/pip/wheels/8c/bc/0c/ac35392b72556e75107ff610cb31b313e8471918a6d280e34c\n",
      "Successfully built pygraphviz\n",
      "Installing collected packages: pygraphviz\n",
      "Successfully installed pygraphviz-1.7\n",
      "Note: you may need to restart the kernel to use updated packages.\n"
     ]
    }
   ],
   "source": [
    "pip install pygraphviz"
   ]
  },
  {
   "cell_type": "code",
   "execution_count": null,
   "metadata": {},
   "outputs": [],
   "source": []
  }
 ],
 "metadata": {
  "kernelspec": {
   "display_name": "Python 3",
   "language": "python",
   "name": "python3"
  },
  "language_info": {
   "codemirror_mode": {
    "name": "ipython",
    "version": 3
   },
   "file_extension": ".py",
   "mimetype": "text/x-python",
   "name": "python",
   "nbconvert_exporter": "python",
   "pygments_lexer": "ipython3",
   "version": "3.7.6"
  }
 },
 "nbformat": 4,
 "nbformat_minor": 4
}
