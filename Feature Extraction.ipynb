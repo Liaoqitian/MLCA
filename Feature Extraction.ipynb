{
 "cells": [
  {
   "cell_type": "code",
   "execution_count": 52,
   "metadata": {},
   "outputs": [],
   "source": [
    "from keras import applications\n",
    "from keras.preprocessing.image import ImageDataGenerator\n",
    "from keras import optimizers\n",
    "from keras.models import Sequential, Model \n",
    "from keras.layers import *\n",
    "from keras.callbacks import ModelCheckpoint, LearningRateScheduler, TensorBoard, EarlyStopping\n",
    " \n",
    "import os\n",
    "import cv2\n",
    "import numpy as np\n",
    "from sklearn.model_selection import train_test_split\n",
    "import keras_metrics as km\n",
    "\n",
    "from sklearn.metrics import accuracy_score\n",
    "from sklearn.metrics import precision_score\n",
    "from sklearn.metrics import recall_score\n",
    "from sklearn.metrics import f1_score\n",
    "from sklearn.metrics import cohen_kappa_score\n",
    "from sklearn.metrics import roc_auc_score\n",
    "from sklearn.metrics import multilabel_confusion_matrix\n",
    "\n",
    "import tensorflow as tf\n",
    "from tensorflow import keras\n",
    "from tensorflow.keras.preprocessing.image import ImageDataGenerator\n",
    "from tensorflow.keras.applications import ResNet50\n",
    "from tensorflow.keras.layers import Dropout, Flatten, Dense, Activation, BatchNormalization\n",
    "from tensorflow.keras.layers import Conv2D, MaxPooling2D, AveragePooling2D, Dropout\n",
    "from tensorflow.keras.optimizers import SGD\n",
    "from sklearn.preprocessing import LabelBinarizer\n",
    "from sklearn.model_selection import train_test_split\n",
    "from sklearn.metrics import classification_report\n",
    "from sklearn.preprocessing import MinMaxScaler\n",
    "\n",
    "import numpy as np \n",
    "import matplotlib.pyplot as plt \n",
    "import argparse\n",
    "import os\n",
    "import cv2 \n",
    "import random\n",
    "import sys\n",
    "from PIL import Image\n",
    "import pickle\n",
    "import math\n",
    "import pandas as pd"
   ]
  },
  {
   "cell_type": "code",
   "execution_count": 27,
   "metadata": {},
   "outputs": [],
   "source": [
    "DATADIR = \"./finaldata\" \n",
    "CATEGORIES = [\"Boring\", \"Interesting\"]\n",
    "training_data = []\n",
    "feature_extraction_data = []\n",
    "IMG_SIZE = 30"
   ]
  },
  {
   "cell_type": "code",
   "execution_count": 28,
   "metadata": {},
   "outputs": [],
   "source": [
    "## Stitch the images together \n",
    "## 0 1 2 \n",
    "## 3 4 5\n",
    "## 6 7 8\n",
    "\n",
    "def stitch_images(file_path, file_name):\n",
    "    images = [Image.open(image) for image in [file_path + \"/\" + file_name + str(x) + \".png\" for x in range(100, 109)]]\n",
    "    widths, heights = zip(*(i.size for i in images))\n",
    "    total_width = int(sum(widths) / 3)\n",
    "    total_height = int(sum(heights) / 3)\n",
    "    new_image = Image.new(\"RGB\", (total_width, total_height))\n",
    "    for index in range(0, 9):\n",
    "        image = images[index]\n",
    "        new_image.paste(image, ((index % 3) * image.size[0], math.floor(index / 3) * image.size[1]))\n",
    "    if not os.path.isdir(file_path + \"/combined/\"):\n",
    "        os.mkdir(file_path + \"/combined/\")\n",
    "    IMAGE_DIR = os.path.join(file_path, \"combined/\") + file_name + \"combined.png\"\n",
    "    new_image.save(IMAGE_DIR)\n",
    "    return IMAGE_DIR"
   ]
  },
  {
   "cell_type": "code",
   "execution_count": 29,
   "metadata": {},
   "outputs": [],
   "source": [
    "def create_training_data():\n",
    "    for category in CATEGORIES: \n",
    "        path = os.path.join(DATADIR, category)\n",
    "        class_num = CATEGORIES.index(category)\n",
    "        for image in sorted(os.listdir(path)): \n",
    "            if \"100\" not in image or \"combined\" in image: ## Find the starting frame\n",
    "                continue\n",
    "            IMAGE_DIR = stitch_images(path, image[0:-7])\n",
    "            try: \n",
    "                img_array = cv2.imread(IMAGE_DIR, cv2.IMREAD_GRAYSCALE)\n",
    "                new_array = cv2.resize(img_array, (IMG_SIZE, IMG_SIZE))\n",
    "                # print(new_array.shape[0], new_array.shape[1])\n",
    "                feature = np.reshape(new_array, (new_array.shape[0] * new_array.shape[1]))\n",
    "                training_data.append([new_array, class_num])\n",
    "                if class_num == 0:\n",
    "                    feature_extraction_data.append([feature, False])\n",
    "                else: \n",
    "                    feature_extraction_data.append([feature, True])\n",
    "            except Exception as e: \n",
    "                pass "
   ]
  },
  {
   "cell_type": "code",
   "execution_count": 30,
   "metadata": {},
   "outputs": [],
   "source": [
    "create_training_data()\n",
    "random.shuffle(training_data)\n",
    "random.shuffle(feature_extraction_data)"
   ]
  },
  {
   "cell_type": "code",
   "execution_count": 31,
   "metadata": {},
   "outputs": [],
   "source": [
    "features_file = open(\"file.csv\", \"ab\")\n",
    "feature_data = []\n",
    "for i in range(len(feature_extraction_data)): \n",
    "    row_data = np.append(feature_extraction_data[i][0], feature_extraction_data[i][1])\n",
    "    feature_data = np.append(feature_data, row_data)"
   ]
  },
  {
   "cell_type": "code",
   "execution_count": 44,
   "metadata": {},
   "outputs": [
    {
     "data": {
      "text/plain": [
       "(2100, 901)"
      ]
     },
     "execution_count": 44,
     "metadata": {},
     "output_type": "execute_result"
    }
   ],
   "source": [
    "feature_data.shape"
   ]
  },
  {
   "cell_type": "code",
   "execution_count": 41,
   "metadata": {},
   "outputs": [],
   "source": [
    "feature_data = feature_data.reshape(2100, 901)"
   ]
  },
  {
   "cell_type": "code",
   "execution_count": 54,
   "metadata": {},
   "outputs": [],
   "source": [
    "df = pd.DataFrame(feature_data)"
   ]
  },
  {
   "cell_type": "code",
   "execution_count": 56,
   "metadata": {},
   "outputs": [],
   "source": [
    "df.to_csv('features.csv', index=False)  "
   ]
  },
  {
   "cell_type": "code",
   "execution_count": 49,
   "metadata": {},
   "outputs": [],
   "source": [
    "np.savetxt(\"features.csv\", feature_data)"
   ]
  },
  {
   "cell_type": "code",
   "execution_count": 50,
   "metadata": {},
   "outputs": [
    {
     "data": {
      "text/plain": [
       "array([255.,  38., 188., 218., 229., 188., 100., 202., 255., 255., 255.,\n",
       "        38., 220., 243., 130., 218., 142., 214., 217.,   0., 255.,  74.,\n",
       "       241., 255., 159., 234., 173., 223., 217.,   0.,  13., 252.,  68.,\n",
       "       180., 221., 247., 255.,  31., 227., 210.,  40., 255., 107.,  32.,\n",
       "       245., 255.,  89.,  68., 248., 238.,  89., 255., 152.,  72., 255.,\n",
       "       255.,   0.,  97.,  35., 255.,  99., 255., 181., 218.,  90., 129.,\n",
       "       110., 208.,  77., 122., 135., 255., 215., 243., 135., 172., 148.,\n",
       "       237., 116., 165., 163., 255., 241., 255., 172., 208., 173., 255.,\n",
       "       160., 202., 252., 212.,  64.,  32., 115., 140., 154., 191., 208.,\n",
       "       238., 254., 240.,  31.,  72.,   0.,  19., 180., 191., 237., 255.,\n",
       "       255., 217.,  79., 119.,  23.,  64.,  32.,  10., 255., 255.,  12.,\n",
       "        77., 250., 243.,   0., 186., 255., 191., 252., 129.,  52., 110.,\n",
       "        64., 255.,  19., 209.,   0.,   0.,  38., 172.,  99., 152.,  31.,\n",
       "       255.,  64., 114.,  42.,   0.,  36., 208., 255., 242., 255., 135.,\n",
       "        64., 157., 255., 255., 255., 242.,   0.,  31.,  64., 169., 108.,\n",
       "       186., 255.,   0., 255., 244.,   2.,  35.,   0., 197., 148.,  94.,\n",
       "       255.,  31., 255.,   4.,   0., 152.,   0., 226., 255.,  94., 226.,\n",
       "       234., 103., 238.,  40., 190.,  31., 239., 255., 107., 239., 243.,\n",
       "       141., 255.,  89., 221.,  79., 249.,   0., 138.,  83., 250., 182.,\n",
       "         0., 133.,  49.,  64., 104., 140.,  23., 208., 202., 217., 174.,\n",
       "       175.,  97.,  31., 144.,  19.,  50., 237., 214.,   6., 209., 210.,\n",
       "       135.,  79., 184.,  64.,  90., 255.,  32.,  13., 238., 200.,   0.,\n",
       "       250.,  32.,  71., 188., 119., 241.,  84., 131., 230.,  42.,  64.,\n",
       "        72., 113., 221., 156., 255., 123., 174., 249.,  91.,   0., 119.,\n",
       "       155., 245., 195., 255., 165., 209.,  40.,  97., 156.,  74., 192.,\n",
       "        94., 195., 119.,  97., 168.,  88., 135., 188., 116., 224., 133.,\n",
       "       227., 161., 135., 204., 127., 177., 214., 157., 247., 171., 249.,\n",
       "       199., 177., 234., 242.,  77., 191.,   0.,  41., 247., 201.,  43.,\n",
       "       217.,  42., 242., 109., 202.,  14.,  81., 115., 224.,  83.,   0.,\n",
       "        91.,   2., 152.,  23.,  59., 127.,  23., 154., 127.,  36., 129.,\n",
       "       127.,   0., 188., 119., 140., 255.,  27., 129.,  74., 255., 170.,\n",
       "         6., 221., 156.,  19.,   0.,  74., 156., 116.,   0., 206.,  49.,\n",
       "       243., 195.,  64.,  19., 116., 188., 109.,  42., 200., 217., 255.,\n",
       "         0., 208., 237., 201., 255., 196., 231., 230., 223.,   0.,  42.,\n",
       "       234., 255., 224.,  64., 227., 251., 249., 230.,  10.,  91., 107.,\n",
       "       140., 154.,  31., 248.,  10., 242., 217., 119., 157.,  69., 108.,\n",
       "        72.,  54., 255., 242.,   0., 223., 161., 195., 112., 148., 119.,\n",
       "       100., 255., 242.,  42., 230., 199., 224., 152., 188., 157., 140.,\n",
       "       217.,   2., 135., 190.,  79.,   0., 108., 130.,  91.,  31.,  83.,\n",
       "       237., 176., 221., 119.,  27., 148., 159., 129.,  68., 123., 255.,\n",
       "       210., 242., 161.,  74., 188.,  41., 172., 107., 166., 255.,  44.,\n",
       "        74.,  42.,  45., 188., 133., 255.,  79.,   0.,   6.,  93.,  77.,\n",
       "        91.,  87., 221., 171.,  89., 119.,  42.,  48., 131., 116., 129.,\n",
       "       132., 245., 198.,  27., 161.,  91.,  97., 127., 242., 119., 255.,\n",
       "         0.,  50., 117., 255., 215.,  42., 170., 248., 161.,   0.,  42.,\n",
       "        71.,  59., 191., 201.,  91., 206., 252., 199.,  42.,  91.,  94.,\n",
       "        98., 191., 223., 129., 238., 177., 119., 218., 108., 135., 255.,\n",
       "        43.,  55., 255., 255., 212., 161., 243., 148., 172., 255.,  52.,\n",
       "       103.,   0.,   0., 240., 199., 255., 188., 208., 166.,  59., 141.,\n",
       "         0., 251., 129.,  10., 156., 188., 140., 224.,   0., 202., 238.,\n",
       "       253., 172.,  23., 195., 218., 159., 243.,  31., 233., 242., 254.,\n",
       "       208.,  64., 224.,  94., 181., 255.,  68., 252.,   0., 170., 212.,\n",
       "        32., 195., 255., 198., 255., 230., 212., 253., 206., 240.,  74.,\n",
       "       227., 255.,  77., 166., 250., 240., 254., 235., 217., 120., 249.,\n",
       "       140., 117.,  14., 255., 255., 255.,  44., 190.,  64., 104., 164.,\n",
       "        69., 180., 160.,  83., 172.,  93., 221., 111., 144., 201., 112.,\n",
       "        32., 193., 123., 208., 131., 242., 149., 184., 229., 153.,  72.,\n",
       "       156., 165., 237., 235.,  96., 250., 224., 108.,  64., 157., 214.,\n",
       "       146.,  91., 254., 135., 255., 243., 148., 108., 195.,  32., 183.,\n",
       "       129., 255., 177.,  64., 166., 188., 148., 227.,  74., 215., 172.,\n",
       "       251.,  19.,  54., 129., 138.,   0., 180.,  79., 252.,  52.,  10.,\n",
       "        26., 100., 172., 165.,  42.,  32., 119., 255.,  99.,  12.,  31.,\n",
       "       140., 208., 186.,  91.,  72., 161.,   0., 135.,  91.,  19., 230.,\n",
       "       154., 192., 221., 195., 181.,   0.,   4., 129.,  61., 250., 180.,\n",
       "       224., 245., 224., 215.,   6.,   6., 172., 108.,  64., 197., 247.,\n",
       "       140., 154., 241.,  49.,   8., 238., 248., 199., 116., 221.,  81.,\n",
       "       208., 152., 202., 255., 242., 252., 230., 157., 245., 127., 237.,\n",
       "       188., 232.,   0.,   0.,  38., 250., 195., 255., 164., 255., 221.,\n",
       "       252.,  40., 174., 160., 172., 167., 255.,  77.,  74., 199., 129.,\n",
       "       134., 209., 196., 208., 201., 115.,  93., 116., 230., 172., 176.,\n",
       "       238., 227., 237., 224.,   0., 130., 157., 250., 208., 210., 235.,\n",
       "        38., 230.,  91., 129., 133., 144.,  10.,  14., 172., 254.,  38.,\n",
       "       250., 129., 172., 171., 180.,  54.,  55., 208., 255.,  35., 255.,\n",
       "       172., 208., 198., 214., 100., 103., 237.,  42., 255., 230., 255.,\n",
       "       221., 234.,  15.,  95., 182.,   2.,  91., 255., 250., 255., 245.,\n",
       "       247.,  59.,  68., 215.,   4., 129., 217., 255.,  89., 140., 255.,\n",
       "       104., 107., 240.,   6., 255., 237., 111., 154., 106.,  58.,   0.,\n",
       "        97., 255.,  42., 242., 255., 149., 180., 138.,  77.,  42., 139.,\n",
       "       255.,  91., 244., 255., 188.,  32., 165.,  94.,  91., 179.,   0.,\n",
       "       129., 254.,   6., 156., 255.,  19., 157.,  32.,   0., 217.,   0.,\n",
       "       255.,  49., 193.,  89.,  64., 185.,  45.,  42., 217.,  42., 255.,\n",
       "        97., 156.,  27., 108., 209.,  87.,  91., 223.,  91.,   0.])"
      ]
     },
     "execution_count": 50,
     "metadata": {},
     "output_type": "execute_result"
    }
   ],
   "source": [
    "feature_data[0]"
   ]
  },
  {
   "cell_type": "code",
   "execution_count": 33,
   "metadata": {},
   "outputs": [
    {
     "data": {
      "text/plain": [
       "901.0"
      ]
     },
     "execution_count": 33,
     "metadata": {},
     "output_type": "execute_result"
    }
   ],
   "source": [
    "1892100/2100"
   ]
  },
  {
   "cell_type": "code",
   "execution_count": null,
   "metadata": {},
   "outputs": [],
   "source": []
  }
 ],
 "metadata": {
  "kernelspec": {
   "display_name": "Python 3",
   "language": "python",
   "name": "python3"
  },
  "language_info": {
   "codemirror_mode": {
    "name": "ipython",
    "version": 3
   },
   "file_extension": ".py",
   "mimetype": "text/x-python",
   "name": "python",
   "nbconvert_exporter": "python",
   "pygments_lexer": "ipython3",
   "version": "3.7.6"
  }
 },
 "nbformat": 4,
 "nbformat_minor": 4
}
